{
 "cells": [
  {
   "cell_type": "code",
   "execution_count": 1,
   "id": "eae0ae67-09be-4881-a47c-0be7458b58b1",
   "metadata": {},
   "outputs": [],
   "source": [
    "import numpy as np"
   ]
  },
  {
   "cell_type": "code",
   "execution_count": 13,
   "id": "adaa7a78-9d9f-4bbf-9913-7d72a62dedbe",
   "metadata": {},
   "outputs": [
    {
     "data": {
      "image/jpeg": "[encoded data removed]",
      "text/plain": [
       "<IPython.core.display.Image object>"
      ]
     },
     "execution_count": 13,
     "metadata": {
      "image/jpeg": {
       "height": 800,
       "width": 800
      }
     },
     "output_type": "execute_result"
    }
   ],
   "source": [
    "from IPython.display import Image\n",
    "Image(filename= \"C:/Users/Predator/Downloads/entropy_calculation.jpg\", width=800, height=800)"
   ]
  },
  {
   "cell_type": "code",
   "execution_count": 10,
   "id": "b95120ef-9b37-419a-857e-592731f8ed37",
   "metadata": {},
   "outputs": [],
   "source": [
    "def entropy(y):\n",
    "    hist=np.bincount(y)\n",
    "    ps=hist/len(y)\n",
    "    return -np.sum([p*np.log2(p) for p in ps if p>0])"
   ]
  },
  {
   "cell_type": "code",
   "execution_count": 14,
   "id": "7404b338-76a5-4789-9b0a-4c2456f0460e",
   "metadata": {},
   "outputs": [],
   "source": [
    "class Node:\n",
    "    def __init__(self,feature=None,threshold=None,left=None,right=None,*,value=None):\n",
    "        self.feature=feature\n",
    "        self.threshold=threshold\n",
    "        self.left=None\n",
    "        self.right=None\n",
    "        self.value=None\n",
    "    def is_leaf_node(self):\n",
    "        return self.value is not None"
   ]
  },
  {
   "cell_type": "code",
   "execution_count": null,
   "id": "0b322f3a-35e0-4c17-9b2a-00a2a4113867",
   "metadata": {},
   "outputs": [],
   "source": [
    "class DecisonTree:\n",
    "    def __init__(self,min_samples_split=2,max_depth=100,n_features=None):\n",
    "        self.min_samples_split=min_samples_split\n",
    "        self.max_depth=max_depth\n",
    "        self.n_features=n_features\n",
    "        self.root=None\n",
    "\n",
    "    def fit(self,X,y):\n",
    "        #grow tree\n",
    "        self.n_features=X.shape[1] if not self.n_features else min(self.n_features,X.shape[1])\n",
    "        self.root=self.grow_tree(X,y)\n",
    "    def grow_tree(self,X,y,depth=0):\n",
    "        \n",
    "        "
   ]
  },
  {
   "cell_type": "code",
   "execution_count": null,
   "id": "e5ac678c-8d7a-4bad-9fa0-c48c5e667f7a",
   "metadata": {},
   "outputs": [],
   "source": [
    "class DecisonTreeClassifier:\n",
    "    def __init__(self,max_depth=None):\n",
    "        self.max_depth=max_depth\n",
    "\n",
    "    def fit(self,X,y):\n",
    "        self.tree=self._fit(X,y,depth=0)\n",
    "\n",
    "    #recusrive function stopping condition\n",
    "    def _fit(self,X,y,depth):\n",
    "        if depth==self.max_depth or len(np.unique(y))==1:\n",
    "            return np.argmax(np.bincount(y))\n",
    "    "
   ]
  },
  {
   "cell_type": "code",
   "execution_count": 1,
   "id": "f287de5c-0724-48fa-bd23-5c226aed861b",
   "metadata": {},
   "outputs": [],
   "source": [
    "import numpy as np"
   ]
  },
  {
   "cell_type": "code",
   "execution_count": 4,
   "id": "0e7de33e-2012-4cb8-9d98-19fe4325378c",
   "metadata": {},
   "outputs": [],
   "source": [
    "class Node:\n",
    "    def __init__(self,feature=None,threshold=None,left=None,right=None,*,value):\n",
    "        self.feature=feature\n",
    "        self.threshold=threshold\n",
    "        self.right=right\n",
    "        self.left=left\n",
    "        self.value=None\n",
    "\n",
    "    def is_leaf_node(self):\n",
    "        return self.value is not None\n",
    "\n",
    "class DecisionTreeClassifier:\n",
    "    def __init__(self,min_sample_split=2,max_depth=100,n_features=None):\n",
    "        self.min_sample_split=min_sample_split\n",
    "        self.max_depth=max_depth\n",
    "        self.n_features=n_features\n",
    "        self.root=None\n",
    "\n",
    "    def fit(self,X,y):\n",
    "        self.n_features=X.shape[1] if not self.n_features else min(X.shape[1],self.n_features)\n",
    "        self.root=self._grow_tree(X,y)\n",
    "\n",
    "    def _grow_tree(self,X,y):\n",
    "        n_samples,n_feats=X.shape\n",
    "        n_labels=len(np.unique(y))\n",
    "\n",
    "        #checking the stopping criteria\n",
    "        if (depth>=self.max_depth or n_labels==1 or n_samples<self.min_sample_split):\n",
    "            leaf_value=self._most_common_label(y)\n",
    "            return Node(value=leaf_value)\n",
    "\n",
    "        feat_idx=np.random.choice(n_feats,self.n_features,replace=False)\n",
    "\n",
    "        #finding the best split\n",
    "        \n",
    "    "
   ]
  },
  {
   "cell_type": "code",
   "execution_count": null,
   "id": "818d0b51-064d-446d-aade-11b3fa915268",
   "metadata": {},
   "outputs": [],
   "source": []
  }
 ],
 "metadata": {
  "kernelspec": {
   "display_name": "Python 3 (ipykernel)",
   "language": "python",
   "name": "python3"
  },
  "language_info": {
   "codemirror_mode": {
    "name": "ipython",
    "version": 3
   },
   "file_extension": ".py",
   "mimetype": "text/x-python",
   "name": "python",
   "nbconvert_exporter": "python",
   "pygments_lexer": "ipython3",
   "version": "3.11.3"
  }
 },
 "nbformat": 4,
 "nbformat_minor": 5
}
